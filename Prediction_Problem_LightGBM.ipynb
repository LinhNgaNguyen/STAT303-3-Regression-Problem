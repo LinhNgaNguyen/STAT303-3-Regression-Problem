{
 "cells": [
  {
   "cell_type": "code",
   "execution_count": 11,
   "metadata": {
    "id": "zs4IVc05SV5q"
   },
   "outputs": [],
   "source": [
    "import pandas as pd\n",
    "import numpy as np\n",
    "import seaborn as sns\n",
    "import matplotlib.pyplot as plt\n",
    "import itertools\n",
    "import time\n",
    "import itertools as it\n",
    "from statsmodels.stats.outliers_influence import variance_inflation_factor\n",
    "from statsmodels.tools.tools import add_constant\n",
    "\n",
    "from sklearn.model_selection import train_test_split, cross_val_predict, cross_val_score, cross_validate\n",
    "from sklearn.linear_model import LogisticRegression, LinearRegression\n",
    "from sklearn.metrics import classification_report, confusion_matrix, roc_curve, auc, precision_recall_curve\n",
    "from sklearn.linear_model import Ridge, RidgeCV, Lasso, LassoCV\n",
    "from sklearn.preprocessing import StandardScaler \n",
    "from sklearn.metrics import r2_score\n",
    "from sklearn.metrics import mean_squared_error\n",
    "from sklearn.metrics import accuracy_score, roc_curve, auc, precision_score, recall_score, confusion_matrix\n",
    "from sklearn.model_selection import StratifiedKFold, KFold\n",
    "from sklearn.tree import DecisionTreeClassifier, DecisionTreeRegressor\n",
    "from sklearn.metrics import mean_absolute_error\n",
    "from sklearn.model_selection import GridSearchCV, cross_val_predict, RandomizedSearchCV\n",
    "from sklearn.ensemble import BaggingRegressor,BaggingClassifier,RandomForestRegressor,RandomForestClassifier, AdaBoostRegressor, AdaBoostClassifier, GradientBoostingRegressor, GradientBoostingClassifier\n",
    "from sklearn.neighbors import KNeighborsClassifier, KNeighborsRegressor\n",
    "from sklearn.impute import KNNImputer\n",
    "from sklearn import preprocessing\n",
    "from sklearn import metrics\n",
    "from sklearn.feature_selection import SequentialFeatureSelector, SelectKBest, f_regression\n",
    "import warnings\n",
    "np.warnings.filterwarnings('ignore')"
   ]
  },
  {
   "cell_type": "code",
   "execution_count": 6,
   "metadata": {
    "colab": {
     "base_uri": "https://localhost:8080/",
     "height": 300
    },
    "id": "OdzM8iUDRGeK",
    "outputId": "742dc3c6-6e9f-4c6e-ecd6-0c8118334430"
   },
   "outputs": [],
   "source": [
    "# Loading the data\n",
    "train = pd.read_csv('kaggle_train.csv')\n",
    "test = pd.read_csv('kaggle_test.csv')\n",
    "\n",
    "# Separate into test and train\n",
    "y_train = train.y\n",
    "X_train = train.drop(\"y\", axis = 1)\n",
    "\n",
    "X_test = test\n",
    "\n",
    "X_train_columns = X_train.columns\n",
    "X_test_columns = X_test.columns\n",
    "\n",
    "# Scale the data\n",
    "scaler = StandardScaler().fit(X_train)\n",
    "X_train = pd.DataFrame(scaler.transform(X_train), columns = X_train_columns)\n",
    "X_test = pd.DataFrame(scaler.transform(X_test), columns = X_train_columns)\n",
    "\n",
    "# Impute the missing values\n",
    "X_imputed = pd.DataFrame(KNNImputer(n_neighbors = 8).fit_transform(X_train), columns = X_train.columns)\n",
    "X_test_imputed = pd.DataFrame(KNNImputer(n_neighbors = 8).fit_transform(X_test), columns = X_test.columns)\n",
    "\n",
    "# SelectKBest to select the best 350 features of the dataset\n",
    "# Fit using the imputed X_train data\n",
    "# Get_support() gives an array with Booleans with True being the predictors selected and False being the predictors removed\n",
    "selected_features = SelectKBest(f_regression, k = 350).fit(X_imputed, y_train).get_support()"
   ]
  },
  {
   "cell_type": "code",
   "execution_count": 7,
   "metadata": {
    "colab": {
     "base_uri": "https://localhost:8080/"
    },
    "id": "37TCEMMhWQ-R",
    "outputId": "595a8292-1811-46e7-dc45-61bf91d7e65c"
   },
   "outputs": [],
   "source": [
    "# Making a new dataframe with all the predictors that are selected\n",
    "X_train_small = X_imputed[X_imputed.columns[selected_features]]"
   ]
  },
  {
   "cell_type": "code",
   "execution_count": 8,
   "metadata": {},
   "outputs": [],
   "source": [
    "X_test_small = X_test_imputed[X_test_imputed.columns[selected_features]]"
   ]
  },
  {
   "cell_type": "code",
   "execution_count": 9,
   "metadata": {
    "colab": {
     "base_uri": "https://localhost:8080/"
    },
    "id": "0F8xEzeeRu3_",
    "outputId": "8c22e72e-5825-48fe-96a2-e0105704a8cc"
   },
   "outputs": [
    {
     "name": "stdout",
     "output_type": "stream",
     "text": [
      "Fitting 2 folds for each of 50 candidates, totalling 100 fits\n",
      "[LightGBM] [Warning] Unknown parameter: gamma\n"
     ]
    }
   ],
   "source": [
    "# Coarse search\n",
    "param_grid = {\n",
    "    'max_depth': list(range(0, 200, 20)),\n",
    "    'learning_rate': [0.01, 0.1, 0.5, 1.0],\n",
    "    'subsample': [0.25, 0.5, 0.75, 1.0],\n",
    "    'reg_lambda': [0, 1, 5, 10],\n",
    "    'n_estimators': range(0, 2000, 400),\n",
    "    'gamma': [0, 10]\n",
    "}\n",
    "\n",
    "cv = KFold(n_splits=2, shuffle=True, random_state=1)\n",
    "\n",
    "lgb_coarse_grid_search = RandomizedSearchCV(\n",
    "    estimator=lgb.LGBMRegressor(random_state=1),\n",
    "    param_distributions=param_grid,\n",
    "    verbose=1,\n",
    "    n_jobs=-1,\n",
    "    cv=cv,\n",
    "    scoring='neg_mean_absolute_error',\n",
    "    n_iter=50,\n",
    "    random_state=1\n",
    ")\n",
    "\n",
    "lgb_coarse_grid_result = lgb_coarse_grid_search.fit(X_train_small, y_train)\n",
    "\n",
    "# Store results in a DataFrame\n",
    "lgb_cv_results = pd.DataFrame(lgb_coarse_grid_result.cv_results_)"
   ]
  },
  {
   "cell_type": "code",
   "execution_count": 10,
   "metadata": {
    "colab": {
     "base_uri": "https://localhost:8080/"
    },
    "id": "VyBIFCa-SpUf",
    "outputId": "b7b3904c-3b28-4584-979d-4a3b82d0e76e"
   },
   "outputs": [
    {
     "name": "stdout",
     "output_type": "stream",
     "text": [
      "Best MAE Score Through Grid Search : -5.161\n",
      "Best Parameters :  {'subsample': 0.75, 'reg_lambda': 10, 'n_estimators': 400, 'max_depth': 80, 'learning_rate': 0.01, 'gamma': 10}\n"
     ]
    }
   ],
   "source": [
    "print('Best MAE Score Through Grid Search : %.3f'%lgb_coarse_grid_search.best_score_)\n",
    "print('Best Parameters : ',lgb_coarse_grid_search.best_params_)"
   ]
  },
  {
   "cell_type": "code",
   "execution_count": 9,
   "metadata": {
    "colab": {
     "base_uri": "https://localhost:8080/"
    },
    "id": "Q16e3d86fFYd",
    "outputId": "1180660b-e99c-4206-f060-689fa6b586d8"
   },
   "outputs": [
    {
     "ename": "NameError",
     "evalue": "name 'lgb' is not defined",
     "output_type": "error",
     "traceback": [
      "\u001b[0;31m---------------------------------------------------------------------------\u001b[0m",
      "\u001b[0;31mNameError\u001b[0m                                 Traceback (most recent call last)",
      "\u001b[0;32m/var/folders/qx/y6511cx14579xdbhwdbdj0jc0000gp/T/ipykernel_7366/1418234412.py\u001b[0m in \u001b[0;36m<module>\u001b[0;34m\u001b[0m\n\u001b[0;32m----> 1\u001b[0;31m lgb_model = lgb.LGBMRegressor(random_state=1, verbose = 1, n_estimators = 400, subsample = 0.75, reg_lambda = 10,\n\u001b[0m\u001b[1;32m      2\u001b[0m                               \u001b[0mmax_depth\u001b[0m \u001b[0;34m=\u001b[0m \u001b[0;36m80\u001b[0m\u001b[0;34m,\u001b[0m \u001b[0mlearning_rate\u001b[0m \u001b[0;34m=\u001b[0m \u001b[0;36m0.01\u001b[0m\u001b[0;34m,\u001b[0m \u001b[0mgamma\u001b[0m \u001b[0;34m=\u001b[0m \u001b[0;36m10\u001b[0m\u001b[0;34m,\u001b[0m\u001b[0;34m\u001b[0m\u001b[0;34m\u001b[0m\u001b[0m\n\u001b[1;32m      3\u001b[0m                               n_jobs=-1).fit(X_train_small,y_train)\n\u001b[1;32m      4\u001b[0m \u001b[0;34m\u001b[0m\u001b[0m\n\u001b[1;32m      5\u001b[0m \u001b[0mpred\u001b[0m \u001b[0;34m=\u001b[0m \u001b[0mlgb_model\u001b[0m\u001b[0;34m.\u001b[0m\u001b[0mpredict\u001b[0m\u001b[0;34m(\u001b[0m\u001b[0mX_test_small\u001b[0m\u001b[0;34m)\u001b[0m\u001b[0;34m\u001b[0m\u001b[0;34m\u001b[0m\u001b[0m\n",
      "\u001b[0;31mNameError\u001b[0m: name 'lgb' is not defined"
     ]
    }
   ],
   "source": [
    "lgb_model = lgb.LGBMRegressor(random_state=1, verbose = 1, n_estimators = 400, subsample = 0.75, reg_lambda = 10,\n",
    "                              max_depth = 80, learning_rate = 0.01, gamma = 10,\n",
    "                              n_jobs=-1).fit(X_train_small,y_train)\n",
    "\n",
    "pred = lgb_model.predict(X_test_small)"
   ]
  },
  {
   "cell_type": "code",
   "execution_count": 48,
   "metadata": {
    "id": "78KMUICXfo5w"
   },
   "outputs": [
    {
     "data": {
      "text/plain": [
       "(5380, 2)"
      ]
     },
     "execution_count": 48,
     "metadata": {},
     "output_type": "execute_result"
    }
   ],
   "source": [
    "submission_LGBM = pd.read_csv('submission_LGBM.csv')\n",
    "submission_LGBM.shape"
   ]
  },
  {
   "cell_type": "code",
   "execution_count": 49,
   "metadata": {},
   "outputs": [
    {
     "data": {
      "text/plain": [
       "(4403, 2)"
      ]
     },
     "execution_count": 49,
     "metadata": {},
     "output_type": "execute_result"
    }
   ],
   "source": [
    "submission_LGBM.dropna(inplace = True)\n",
    "submission_LGBM.shape"
   ]
  },
  {
   "cell_type": "code",
   "execution_count": 50,
   "metadata": {},
   "outputs": [
    {
     "data": {
      "text/plain": [
       "dtype('int32')"
      ]
     },
     "execution_count": 50,
     "metadata": {},
     "output_type": "execute_result"
    }
   ],
   "source": [
    "submission_LGBM.id = submission_LGBM.id.apply(np.int32)\n",
    "submission_LGBM.id.dtype"
   ]
  },
  {
   "cell_type": "code",
   "execution_count": 51,
   "metadata": {},
   "outputs": [],
   "source": [
    "submission_LGBM.to_csv('submission_LGBM1.csv', index=False)"
   ]
  },
  {
   "cell_type": "code",
   "execution_count": null,
   "metadata": {},
   "outputs": [],
   "source": []
  }
 ],
 "metadata": {
  "colab": {
   "provenance": []
  },
  "kernelspec": {
   "display_name": "Python 3 (ipykernel)",
   "language": "python",
   "name": "python3"
  },
  "language_info": {
   "codemirror_mode": {
    "name": "ipython",
    "version": 3
   },
   "file_extension": ".py",
   "mimetype": "text/x-python",
   "name": "python",
   "nbconvert_exporter": "python",
   "pygments_lexer": "ipython3",
   "version": "3.9.13"
  }
 },
 "nbformat": 4,
 "nbformat_minor": 1
}
