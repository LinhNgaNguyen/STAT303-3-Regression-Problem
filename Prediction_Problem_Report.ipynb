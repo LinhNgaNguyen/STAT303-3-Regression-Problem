{
  "cells": [
    {
      "cell_type": "raw",
      "id": "2d08f12d",
      "metadata": {
        "id": "2d08f12d"
      },
      "source": [
        "---\n",
        "title: \"Prediction problem: Report\"\n",
        "format: \n",
        "  html:\n",
        "    toc: true\n",
        "    toc-title: Contents\n",
        "    toc-depth: 4\n",
        "    code-fold: show\n",
        "    self-contained: true\n",
        "    html-math-method: mathml \n",
        "jupyter: python3\n",
        "---"
      ]
    },
    {
      "cell_type": "markdown",
      "id": "b1608757",
      "metadata": {
        "id": "b1608757"
      },
      "source": [
        "# 1) Exploratory data analysis"
      ]
    },
    {
      "cell_type": "markdown",
      "id": "761fff41",
      "metadata": {
        "id": "761fff41"
      },
      "source": [
        "1. y_train has a right-skewed distribution so logging the y_train would partially help with this problem. \n",
        "\n",
        "2. There are 29911 missing values in the train data\n",
        "3. There are 24143 missing values in the test data"
      ]
    },
    {
      "cell_type": "markdown",
      "id": "93d691ac",
      "metadata": {
        "id": "93d691ac"
      },
      "source": [
        "# 2) Data preparation "
      ]
    },
    {
      "cell_type": "code",
      "source": [
        "# supress output\n",
        "%%capture\n",
        "!git clone --single-branch --branch v0.2dev https://github.com/scikit-learn-contrib/py-earth.git\n",
        "%cd py-earth\n",
        "!python setup.py install --cythonize"
      ],
      "metadata": {
        "id": "1Vr8ZnQQHgQE"
      },
      "id": "1Vr8ZnQQHgQE",
      "execution_count": 4,
      "outputs": []
    },
    {
      "cell_type": "code",
      "source": [
        "import pandas as pd\n",
        "import numpy as np\n",
        "import seaborn as sns\n",
        "import matplotlib.pyplot as plt\n",
        "import xgboost as xgb\n",
        "import lightgbm as lgb\n",
        "import itertools as it\n",
        "\n",
        "from sklearn.model_selection import train_test_split, cross_val_predict, cross_val_score, cross_validate\n",
        "from sklearn.linear_model import LogisticRegression, LinearRegression\n",
        "from sklearn.metrics import classification_report, confusion_matrix, roc_curve, auc, precision_recall_curve\n",
        "from sklearn.linear_model import Ridge, RidgeCV, Lasso, LassoCV\n",
        "from sklearn.preprocessing import StandardScaler \n",
        "from sklearn.metrics import r2_score\n",
        "from sklearn.metrics import mean_squared_error\n",
        "from sklearn.metrics import accuracy_score, roc_curve, auc, precision_score, recall_score, confusion_matrix\n",
        "from sklearn.model_selection import StratifiedKFold, KFold\n",
        "from sklearn.metrics import mean_absolute_error\n",
        "from sklearn.model_selection import GridSearchCV, cross_val_predict, RandomizedSearchCV\n",
        "from sklearn.ensemble import BaggingRegressor,BaggingClassifier,RandomForestRegressor,RandomForestClassifier, AdaBoostRegressor, AdaBoostClassifier, GradientBoostingRegressor, GradientBoostingClassifier, StackingRegressor, VotingRegressor\n",
        "from sklearn.neighbors import KNeighborsClassifier, KNeighborsRegressor, LocalOutlierFactor\n",
        "from sklearn.impute import KNNImputer\n",
        "from sklearn import preprocessing\n",
        "from sklearn import metrics\n",
        "from sklearn.svm import SVR\n",
        "from sklearn.feature_selection import SequentialFeatureSelector, SelectKBest, f_regression\n",
        "import warnings\n",
        "np.warnings.filterwarnings('ignore')\n",
        "from pyearth import Earth\n",
        "from catboost import CatBoostRegressor"
      ],
      "metadata": {
        "id": "2bAVk_Q-HYJG"
      },
      "id": "2bAVk_Q-HYJG",
      "execution_count": 40,
      "outputs": []
    },
    {
      "cell_type": "code",
      "source": [
        "# Loading the data\n",
        "train = pd.read_csv('kaggle_train.csv')\n",
        "test = pd.read_csv('kaggle_test.csv')\n",
        "train.drop('id', axis = 1, inplace = True)\n",
        "test.drop('id', axis = 1, inplace = True)"
      ],
      "metadata": {
        "id": "8cICj2IZGZ0r"
      },
      "id": "8cICj2IZGZ0r",
      "execution_count": 41,
      "outputs": []
    },
    {
      "cell_type": "code",
      "source": [
        "# Separate into test and train\n",
        "y_train = train.y\n",
        "X_train = train.drop(\"y\", axis = 1)\n",
        "\n",
        "X_test = test\n",
        "\n",
        "X_train_columns = X_train.columns\n",
        "X_test_columns = X_test.columns"
      ],
      "metadata": {
        "id": "1a0sjujMH9fv"
      },
      "id": "1a0sjujMH9fv",
      "execution_count": 42,
      "outputs": []
    },
    {
      "cell_type": "code",
      "source": [
        "# Scale the data\n",
        "scaler = StandardScaler().fit(X_train)\n",
        "X_train = pd.DataFrame(scaler.transform(X_train), columns = X_train_columns)\n",
        "X_test = pd.DataFrame(scaler.transform(X_test), columns = X_train_columns)"
      ],
      "metadata": {
        "id": "UbEThjutH_-E"
      },
      "id": "UbEThjutH_-E",
      "execution_count": 43,
      "outputs": []
    },
    {
      "cell_type": "code",
      "source": [
        "# y_train visualization\n",
        "sns.histplot(data = y_train)"
      ],
      "metadata": {
        "colab": {
          "base_uri": "https://localhost:8080/",
          "height": 467
        },
        "id": "MvNUWvifLvrn",
        "outputId": "ca2642a5-1497-438a-b613-e635fd5bddc3"
      },
      "id": "MvNUWvifLvrn",
      "execution_count": 44,
      "outputs": [
        {
          "output_type": "execute_result",
          "data": {
            "text/plain": [
              "<Axes: xlabel='y', ylabel='Count'>"
            ]
          },
          "metadata": {},
          "execution_count": 44
        },
        {
          "output_type": "display_data",
          "data": {
            "text/plain": [
              "<Figure size 640x480 with 1 Axes>"
            ],
            "image/png": "[encoded data removed]"
          },
          "metadata": {}
        }
      ]
    },
    {
      "cell_type": "code",
      "source": [
        "# y_train_log visualization\n",
        "sns.histplot(data = np.log(y_train))"
      ],
      "metadata": {
        "colab": {
          "base_uri": "https://localhost:8080/",
          "height": 467
        },
        "id": "nmyK8OcjL2ib",
        "outputId": "8df6d197-5cd4-4156-ea82-e8785a7f552b"
      },
      "id": "nmyK8OcjL2ib",
      "execution_count": 45,
      "outputs": [
        {
          "output_type": "execute_result",
          "data": {
            "text/plain": [
              "<Axes: xlabel='y', ylabel='Count'>"
            ]
          },
          "metadata": {},
          "execution_count": 45
        },
        {
          "output_type": "display_data",
          "data": {
            "text/plain": [
              "<Figure size 640x480 with 1 Axes>"
            ],
            "image/png": "[encoded data removed]"
          },
          "metadata": {}
        }
      ]
    },
    {
      "cell_type": "code",
      "source": [
        "# Log transform the response variable\n",
        "y_train_log = np.log(y_train)"
      ],
      "metadata": {
        "id": "R33rzfQqIAAq"
      },
      "id": "R33rzfQqIAAq",
      "execution_count": 46,
      "outputs": []
    },
    {
      "cell_type": "code",
      "source": [
        "# Number of missing values in the whole X_train dataset\n",
        "X_train.isna().sum().sum()"
      ],
      "metadata": {
        "colab": {
          "base_uri": "https://localhost:8080/"
        },
        "id": "JH2zEsSfIACy",
        "outputId": "9bcb1801-b812-4758-ae42-8aa1dc5084ad"
      },
      "id": "JH2zEsSfIACy",
      "execution_count": 47,
      "outputs": [
        {
          "output_type": "execute_result",
          "data": {
            "text/plain": [
              "29911"
            ]
          },
          "metadata": {},
          "execution_count": 47
        }
      ]
    },
    {
      "cell_type": "code",
      "source": [
        "# Number of missing values in the whole X_test dataset\n",
        "X_test.isna().sum().sum()"
      ],
      "metadata": {
        "colab": {
          "base_uri": "https://localhost:8080/"
        },
        "id": "ijzwcCCNL-7p",
        "outputId": "d0365ea7-a021-41ac-f373-8aa7e70838cc"
      },
      "id": "ijzwcCCNL-7p",
      "execution_count": 48,
      "outputs": [
        {
          "output_type": "execute_result",
          "data": {
            "text/plain": [
              "24143"
            ]
          },
          "metadata": {},
          "execution_count": 48
        }
      ]
    },
    {
      "cell_type": "code",
      "source": [
        "# Imputing missing values with KNN Imputer\n",
        "imputer = KNNImputer(n_neighbors = 20, weights = 'uniform')\n",
        "imputed_arr = imputer.fit_transform(X_train)\n",
        "X_imputed = pd.DataFrame(imputed_arr)\n",
        "X_imputed.columns = [f'x{i+1}' for i in range(len(X_imputed.columns))]"
      ],
      "metadata": {
        "id": "avvV6-T1IEga"
      },
      "id": "avvV6-T1IEga",
      "execution_count": 49,
      "outputs": []
    },
    {
      "cell_type": "code",
      "source": [
        "X_imputed.isna().sum().sum()"
      ],
      "metadata": {
        "colab": {
          "base_uri": "https://localhost:8080/"
        },
        "id": "OryUikEnMS6U",
        "outputId": "ad445df7-2a53-4ea1-fdea-b6d30d69aeba"
      },
      "id": "OryUikEnMS6U",
      "execution_count": 50,
      "outputs": [
        {
          "output_type": "execute_result",
          "data": {
            "text/plain": [
              "0"
            ]
          },
          "metadata": {},
          "execution_count": 50
        }
      ]
    },
    {
      "cell_type": "code",
      "source": [
        "# Imputing missing values for X_test\n",
        "X_test_imputed = pd.DataFrame(imputer.transform(X_test))\n",
        "X_test_imputed.columns = [f'x{i+1}' for i in range(len(X_test_imputed.columns))]"
      ],
      "metadata": {
        "id": "nG8XvEDcIEjD"
      },
      "id": "nG8XvEDcIEjD",
      "execution_count": 51,
      "outputs": []
    },
    {
      "cell_type": "code",
      "source": [
        "X_test_imputed.isna().sum().sum()"
      ],
      "metadata": {
        "colab": {
          "base_uri": "https://localhost:8080/"
        },
        "id": "y-gfBOGxMYYk",
        "outputId": "21f25dfb-783d-4716-be80-8a057ec7bcb2"
      },
      "id": "y-gfBOGxMYYk",
      "execution_count": 52,
      "outputs": [
        {
          "output_type": "execute_result",
          "data": {
            "text/plain": [
              "0"
            ]
          },
          "metadata": {},
          "execution_count": 52
        }
      ]
    },
    {
      "cell_type": "code",
      "source": [
        "# MARS model with degree 1 fitted with y_train_log to select the useful variables\n",
        "model = Earth(max_terms=500, max_degree=1, feature_importance_type='rss')\n",
        "model.fit(X_imputed,y_train_log)"
      ],
      "metadata": {
        "colab": {
          "base_uri": "https://localhost:8080/",
          "height": 75
        },
        "id": "9fXu8hAVIElr",
        "outputId": "3a2e040c-2f92-4871-92b0-5d46af0e82cd"
      },
      "id": "9fXu8hAVIElr",
      "execution_count": 53,
      "outputs": [
        {
          "output_type": "execute_result",
          "data": {
            "text/plain": [
              "Earth(feature_importance_type='rss', max_degree=1, max_terms=500)"
            ],
            "text/html": [
              "<style>#sk-container-id-3 {color: black;background-color: white;}#sk-container-id-3 pre{padding: 0;}#sk-container-id-3 div.sk-toggleable {background-color: white;}#sk-container-id-3 label.sk-toggleable__label {cursor: pointer;display: block;width: 100%;margin-bottom: 0;padding: 0.3em;box-sizing: border-box;text-align: center;}#sk-container-id-3 label.sk-toggleable__label-arrow:before {content: \"▸\";float: left;margin-right: 0.25em;color: #696969;}#sk-container-id-3 label.sk-toggleable__label-arrow:hover:before {color: black;}#sk-container-id-3 div.sk-estimator:hover label.sk-toggleable__label-arrow:before {color: black;}#sk-container-id-3 div.sk-toggleable__content {max-height: 0;max-width: 0;overflow: hidden;text-align: left;background-color: #f0f8ff;}#sk-container-id-3 div.sk-toggleable__content pre {margin: 0.2em;color: black;border-radius: 0.25em;background-color: #f0f8ff;}#sk-container-id-3 input.sk-toggleable__control:checked~div.sk-toggleable__content {max-height: 200px;max-width: 100%;overflow: auto;}#sk-container-id-3 input.sk-toggleable__control:checked~label.sk-toggleable__label-arrow:before {content: \"▾\";}#sk-container-id-3 div.sk-estimator input.sk-toggleable__control:checked~label.sk-toggleable__label {background-color: #d4ebff;}#sk-container-id-3 div.sk-label input.sk-toggleable__control:checked~label.sk-toggleable__label {background-color: #d4ebff;}#sk-container-id-3 input.sk-hidden--visually {border: 0;clip: rect(1px 1px 1px 1px);clip: rect(1px, 1px, 1px, 1px);height: 1px;margin: -1px;overflow: hidden;padding: 0;position: absolute;width: 1px;}#sk-container-id-3 div.sk-estimator {font-family: monospace;background-color: #f0f8ff;border: 1px dotted black;border-radius: 0.25em;box-sizing: border-box;margin-bottom: 0.5em;}#sk-container-id-3 div.sk-estimator:hover {background-color: #d4ebff;}#sk-container-id-3 div.sk-parallel-item::after {content: \"\";width: 100%;border-bottom: 1px solid gray;flex-grow: 1;}#sk-container-id-3 div.sk-label:hover label.sk-toggleable__label {background-color: #d4ebff;}#sk-container-id-3 div.sk-serial::before {content: \"\";position: absolute;border-left: 1px solid gray;box-sizing: border-box;top: 0;bottom: 0;left: 50%;z-index: 0;}#sk-container-id-3 div.sk-serial {display: flex;flex-direction: column;align-items: center;background-color: white;padding-right: 0.2em;padding-left: 0.2em;position: relative;}#sk-container-id-3 div.sk-item {position: relative;z-index: 1;}#sk-container-id-3 div.sk-parallel {display: flex;align-items: stretch;justify-content: center;background-color: white;position: relative;}#sk-container-id-3 div.sk-item::before, #sk-container-id-3 div.sk-parallel-item::before {content: \"\";position: absolute;border-left: 1px solid gray;box-sizing: border-box;top: 0;bottom: 0;left: 50%;z-index: -1;}#sk-container-id-3 div.sk-parallel-item {display: flex;flex-direction: column;z-index: 1;position: relative;background-color: white;}#sk-container-id-3 div.sk-parallel-item:first-child::after {align-self: flex-end;width: 50%;}#sk-container-id-3 div.sk-parallel-item:last-child::after {align-self: flex-start;width: 50%;}#sk-container-id-3 div.sk-parallel-item:only-child::after {width: 0;}#sk-container-id-3 div.sk-dashed-wrapped {border: 1px dashed gray;margin: 0 0.4em 0.5em 0.4em;box-sizing: border-box;padding-bottom: 0.4em;background-color: white;}#sk-container-id-3 div.sk-label label {font-family: monospace;font-weight: bold;display: inline-block;line-height: 1.2em;}#sk-container-id-3 div.sk-label-container {text-align: center;}#sk-container-id-3 div.sk-container {/* jupyter's `normalize.less` sets `[hidden] { display: none; }` but bootstrap.min.css set `[hidden] { display: none !important; }` so we also need the `!important` here to be able to override the default hidden behavior on the sphinx rendered scikit-learn.org. See: https://github.com/scikit-learn/scikit-learn/issues/21755 */display: inline-block !important;position: relative;}#sk-container-id-3 div.sk-text-repr-fallback {display: none;}</style><div id=\"sk-container-id-3\" class=\"sk-top-container\"><div class=\"sk-text-repr-fallback\"><pre>Earth(feature_importance_type=&#x27;rss&#x27;, max_degree=1, max_terms=500)</pre><b>In a Jupyter environment, please rerun this cell to show the HTML representation or trust the notebook. <br />On GitHub, the HTML representation is unable to render, please try loading this page with nbviewer.org.</b></div><div class=\"sk-container\" hidden><div class=\"sk-item\"><div class=\"sk-estimator sk-toggleable\"><input class=\"sk-toggleable__control sk-hidden--visually\" id=\"sk-estimator-id-3\" type=\"checkbox\" checked><label for=\"sk-estimator-id-3\" class=\"sk-toggleable__label sk-toggleable__label-arrow\">Earth</label><div class=\"sk-toggleable__content\"><pre>Earth(feature_importance_type=&#x27;rss&#x27;, max_degree=1, max_terms=500)</pre></div></div></div></div></div>"
            ]
          },
          "metadata": {},
          "execution_count": 53
        }
      ]
    },
    {
      "cell_type": "code",
      "source": [
        "# MARS model with degree 1 fitted with y_train to select the useful variables\n",
        "model_1 = Earth(max_terms=500, max_degree=1, feature_importance_type='rss')\n",
        "model_1.fit(X_imputed,y_train)"
      ],
      "metadata": {
        "colab": {
          "base_uri": "https://localhost:8080/",
          "height": 75
        },
        "id": "l5KGNFGcIEoB",
        "outputId": "64d56372-7102-4b50-9aba-fd7abe0f677c"
      },
      "id": "l5KGNFGcIEoB",
      "execution_count": 54,
      "outputs": [
        {
          "output_type": "execute_result",
          "data": {
            "text/plain": [
              "Earth(feature_importance_type='rss', max_degree=1, max_terms=500)"
            ],
            "text/html": [
              "<style>#sk-container-id-4 {color: black;background-color: white;}#sk-container-id-4 pre{padding: 0;}#sk-container-id-4 div.sk-toggleable {background-color: white;}#sk-container-id-4 label.sk-toggleable__label {cursor: pointer;display: block;width: 100%;margin-bottom: 0;padding: 0.3em;box-sizing: border-box;text-align: center;}#sk-container-id-4 label.sk-toggleable__label-arrow:before {content: \"▸\";float: left;margin-right: 0.25em;color: #696969;}#sk-container-id-4 label.sk-toggleable__label-arrow:hover:before {color: black;}#sk-container-id-4 div.sk-estimator:hover label.sk-toggleable__label-arrow:before {color: black;}#sk-container-id-4 div.sk-toggleable__content {max-height: 0;max-width: 0;overflow: hidden;text-align: left;background-color: #f0f8ff;}#sk-container-id-4 div.sk-toggleable__content pre {margin: 0.2em;color: black;border-radius: 0.25em;background-color: #f0f8ff;}#sk-container-id-4 input.sk-toggleable__control:checked~div.sk-toggleable__content {max-height: 200px;max-width: 100%;overflow: auto;}#sk-container-id-4 input.sk-toggleable__control:checked~label.sk-toggleable__label-arrow:before {content: \"▾\";}#sk-container-id-4 div.sk-estimator input.sk-toggleable__control:checked~label.sk-toggleable__label {background-color: #d4ebff;}#sk-container-id-4 div.sk-label input.sk-toggleable__control:checked~label.sk-toggleable__label {background-color: #d4ebff;}#sk-container-id-4 input.sk-hidden--visually {border: 0;clip: rect(1px 1px 1px 1px);clip: rect(1px, 1px, 1px, 1px);height: 1px;margin: -1px;overflow: hidden;padding: 0;position: absolute;width: 1px;}#sk-container-id-4 div.sk-estimator {font-family: monospace;background-color: #f0f8ff;border: 1px dotted black;border-radius: 0.25em;box-sizing: border-box;margin-bottom: 0.5em;}#sk-container-id-4 div.sk-estimator:hover {background-color: #d4ebff;}#sk-container-id-4 div.sk-parallel-item::after {content: \"\";width: 100%;border-bottom: 1px solid gray;flex-grow: 1;}#sk-container-id-4 div.sk-label:hover label.sk-toggleable__label {background-color: #d4ebff;}#sk-container-id-4 div.sk-serial::before {content: \"\";position: absolute;border-left: 1px solid gray;box-sizing: border-box;top: 0;bottom: 0;left: 50%;z-index: 0;}#sk-container-id-4 div.sk-serial {display: flex;flex-direction: column;align-items: center;background-color: white;padding-right: 0.2em;padding-left: 0.2em;position: relative;}#sk-container-id-4 div.sk-item {position: relative;z-index: 1;}#sk-container-id-4 div.sk-parallel {display: flex;align-items: stretch;justify-content: center;background-color: white;position: relative;}#sk-container-id-4 div.sk-item::before, #sk-container-id-4 div.sk-parallel-item::before {content: \"\";position: absolute;border-left: 1px solid gray;box-sizing: border-box;top: 0;bottom: 0;left: 50%;z-index: -1;}#sk-container-id-4 div.sk-parallel-item {display: flex;flex-direction: column;z-index: 1;position: relative;background-color: white;}#sk-container-id-4 div.sk-parallel-item:first-child::after {align-self: flex-end;width: 50%;}#sk-container-id-4 div.sk-parallel-item:last-child::after {align-self: flex-start;width: 50%;}#sk-container-id-4 div.sk-parallel-item:only-child::after {width: 0;}#sk-container-id-4 div.sk-dashed-wrapped {border: 1px dashed gray;margin: 0 0.4em 0.5em 0.4em;box-sizing: border-box;padding-bottom: 0.4em;background-color: white;}#sk-container-id-4 div.sk-label label {font-family: monospace;font-weight: bold;display: inline-block;line-height: 1.2em;}#sk-container-id-4 div.sk-label-container {text-align: center;}#sk-container-id-4 div.sk-container {/* jupyter's `normalize.less` sets `[hidden] { display: none; }` but bootstrap.min.css set `[hidden] { display: none !important; }` so we also need the `!important` here to be able to override the default hidden behavior on the sphinx rendered scikit-learn.org. See: https://github.com/scikit-learn/scikit-learn/issues/21755 */display: inline-block !important;position: relative;}#sk-container-id-4 div.sk-text-repr-fallback {display: none;}</style><div id=\"sk-container-id-4\" class=\"sk-top-container\"><div class=\"sk-text-repr-fallback\"><pre>Earth(feature_importance_type=&#x27;rss&#x27;, max_degree=1, max_terms=500)</pre><b>In a Jupyter environment, please rerun this cell to show the HTML representation or trust the notebook. <br />On GitHub, the HTML representation is unable to render, please try loading this page with nbviewer.org.</b></div><div class=\"sk-container\" hidden><div class=\"sk-item\"><div class=\"sk-estimator sk-toggleable\"><input class=\"sk-toggleable__control sk-hidden--visually\" id=\"sk-estimator-id-4\" type=\"checkbox\" checked><label for=\"sk-estimator-id-4\" class=\"sk-toggleable__label sk-toggleable__label-arrow\">Earth</label><div class=\"sk-toggleable__content\"><pre>Earth(feature_importance_type=&#x27;rss&#x27;, max_degree=1, max_terms=500)</pre></div></div></div></div></div>"
            ]
          },
          "metadata": {},
          "execution_count": 54
        }
      ]
    },
    {
      "cell_type": "code",
      "source": [
        "# Getting feature importances from MARS model fitted with y_train_log\n",
        "importance = pd.DataFrame(model.feature_importances_, columns = ['RSS'])\n",
        "predictors = pd.DataFrame(X_imputed.columns, columns = ['Predictors'])\n",
        "importance_df = pd.concat([predictors, importance], axis = 1).sort_values(by = 'RSS', ascending = False)\n",
        "importance_df_small = importance_df.head(16)"
      ],
      "metadata": {
        "id": "cK1kKOxTIErJ"
      },
      "id": "cK1kKOxTIErJ",
      "execution_count": 55,
      "outputs": []
    },
    {
      "cell_type": "code",
      "source": [
        "# Getting feature importances from MARS model fitted with y_train\n",
        "importance = pd.DataFrame(model_1.feature_importances_, columns = ['RSS'])\n",
        "predictors = pd.DataFrame(X_imputed.columns, columns = ['Predictors'])\n",
        "importance_df = pd.concat([predictors, importance], axis = 1).sort_values(by = 'RSS', ascending = False)\n",
        "importance_df_small_1 = importance_df.head(28)"
      ],
      "metadata": {
        "id": "McWMYuOzIEuR"
      },
      "id": "McWMYuOzIEuR",
      "execution_count": 56,
      "outputs": []
    },
    {
      "cell_type": "code",
      "source": [
        "# List of features selected\n",
        "selected_features = importance_df_small.Predictors.tolist()\n",
        "importance_df_small_1_list = importance_df_small_1.Predictors.tolist()\n",
        "[selected_features.append(x) for x in importance_df_small_1_list if x not in selected_features]\n",
        "len(selected_features)"
      ],
      "metadata": {
        "colab": {
          "base_uri": "https://localhost:8080/"
        },
        "id": "nKEnTODRIAFX",
        "outputId": "0044a0c6-8057-49a2-9c3e-4ddeac240287"
      },
      "id": "nKEnTODRIAFX",
      "execution_count": 57,
      "outputs": [
        {
          "output_type": "execute_result",
          "data": {
            "text/plain": [
              "37"
            ]
          },
          "metadata": {},
          "execution_count": 57
        }
      ]
    },
    {
      "cell_type": "code",
      "source": [
        "# Making a new train dataframe with all the predictors that are selected\n",
        "X_train_small = X_imputed.loc[:, selected_features]"
      ],
      "metadata": {
        "id": "ZTKvC_n2I2h0"
      },
      "id": "ZTKvC_n2I2h0",
      "execution_count": 58,
      "outputs": []
    },
    {
      "cell_type": "code",
      "source": [
        "# Making a new test dataframe with all the predictors that are selected\n",
        "X_test_small = X_test_imputed.loc[:, selected_features]"
      ],
      "metadata": {
        "id": "GFY9YP96I2p3"
      },
      "id": "GFY9YP96I2p3",
      "execution_count": 59,
      "outputs": []
    },
    {
      "cell_type": "markdown",
      "id": "cd58e2ad",
      "metadata": {
        "id": "cd58e2ad"
      },
      "source": [
        "# 3) Developing the model(s)"
      ]
    },
    {
      "cell_type": "code",
      "execution_count": 60,
      "id": "e15e9b8c",
      "metadata": {
        "colab": {
          "base_uri": "https://localhost:8080/",
          "height": 467
        },
        "id": "e15e9b8c",
        "outputId": "3fb492e3-b286-4889-e2e4-f12bce5300f6"
      },
      "outputs": [
        {
          "output_type": "execute_result",
          "data": {
            "text/plain": [
              "[<matplotlib.lines.Line2D at 0x7f98cec6ccd0>]"
            ]
          },
          "metadata": {},
          "execution_count": 60
        },
        {
          "output_type": "display_data",
          "data": {
            "text/plain": [
              "<Figure size 640x480 with 1 Axes>"
            ],
            "image/png": "[encoded data removed]"
          },
          "metadata": {}
        }
      ],
      "source": [
        "# Basic Catboost Model\n",
        "model_cat = CatBoostRegressor(random_state = 1, verbose = False).fit(X_train_small, y_train_log)\n",
        "\n",
        "#MAE of the optimized model on test data\n",
        "y_train_pred=model_cat.predict(X_train_small)\n",
        "\n",
        "# Dataframe with both the predicted and actual y-train values unlogged\n",
        "y_train_comparison = pd.concat([pd.DataFrame(np.exp(y_train_pred)), y_train], axis = 1)\n",
        "y_train_comparison.rename(columns={0: \"Predicted\", \"y\": \"Actual\"}, inplace = True)\n",
        "\n",
        "# Plot the comparison between actual and predicted\n",
        "sns.scatterplot(data = y_train_comparison, y = 'Predicted', x = 'Actual')\n",
        "plt.plot([0,100], [0,100])"
      ]
    },
    {
      "cell_type": "code",
      "source": [
        "# Find the difference between the predicted and the actual values\n",
        "y_train_comparison['Difference'] = y_train_comparison.Predicted - y_train_comparison.Actual\n",
        "\n",
        "# Find the average difference aka average error\n",
        "mean_diff = y_train_comparison.Difference.mean()\n",
        "\n",
        "# Add this average error into the model to correct the slope\n",
        "y_test_pred = np.exp(model_cat.predict(X_test_small)) - mean_diff"
      ],
      "metadata": {
        "id": "oJUNt9L3Jv2D"
      },
      "id": "oJUNt9L3Jv2D",
      "execution_count": 61,
      "outputs": []
    },
    {
      "cell_type": "markdown",
      "id": "c148744c",
      "metadata": {
        "id": "c148744c"
      },
      "source": [
        "# 4) Ensemble"
      ]
    },
    {
      "cell_type": "markdown",
      "source": [
        "I did try many models and ensemble many of them, but I do not remember which one was the best since it has been a while since the time I produced my best RMSE.  However, with just a basic Catboost model, I was able to develop a model that has an RMSE of 8.56. Therefore, I would just report this model."
      ],
      "metadata": {
        "id": "NZbmUAg6KqVD"
      },
      "id": "NZbmUAg6KqVD"
    },
    {
      "cell_type": "code",
      "source": [
        "# Full test dataset\n",
        "test_full = pd.read_csv('kaggle_test.csv')"
      ],
      "metadata": {
        "id": "Y5_v-mtN3Hro"
      },
      "execution_count": 62,
      "outputs": [],
      "id": "Y5_v-mtN3Hro"
    },
    {
      "cell_type": "code",
      "source": [
        "y = pd.Series(y_test_pred, name = 'y')\n",
        "y[y<=1] = 1\n",
        "sub = pd.concat([test_full['id'], y], axis = 1, ignore_index=True)\n",
        "sub.columns = ['id',\"y\"]"
      ],
      "metadata": {
        "id": "qvocRmjM3JrX"
      },
      "execution_count": 63,
      "outputs": [],
      "id": "qvocRmjM3JrX"
    },
    {
      "cell_type": "code",
      "source": [
        "sub.dropna(inplace = True)\n",
        "sub.id = sub.id.apply(np.int32)"
      ],
      "metadata": {
        "id": "gVqE1JGZ3K0-"
      },
      "execution_count": 64,
      "outputs": [],
      "id": "gVqE1JGZ3K0-"
    },
    {
      "cell_type": "code",
      "source": [
        "sub = sub.set_index('id')"
      ],
      "metadata": {
        "id": "T0Mk9Vi_K84I"
      },
      "execution_count": 65,
      "outputs": [],
      "id": "T0Mk9Vi_K84I"
    },
    {
      "cell_type": "code",
      "source": [
        "from google.colab import files\n",
        "sub.to_csv('submission.csv', encoding = 'utf-8-sig', index = True) \n",
        "files.download('submission.csv')"
      ],
      "metadata": {
        "colab": {
          "base_uri": "https://localhost:8080/",
          "height": 17
        },
        "id": "oQtZ0q-93SIN",
        "outputId": "7c10db66-b2d6-4283-edcc-2e367a93c1b6"
      },
      "execution_count": 66,
      "outputs": [
        {
          "output_type": "display_data",
          "data": {
            "text/plain": [
              "<IPython.core.display.Javascript object>"
            ],
            "application/javascript": [
              "\n",
              "    async function download(id, filename, size) {\n",
              "      if (!google.colab.kernel.accessAllowed) {\n",
              "        return;\n",
              "      }\n",
              "      const div = document.createElement('div');\n",
              "      const label = document.createElement('label');\n",
              "      label.textContent = `Downloading \"${filename}\": `;\n",
              "      div.appendChild(label);\n",
              "      const progress = document.createElement('progress');\n",
              "      progress.max = size;\n",
              "      div.appendChild(progress);\n",
              "      document.body.appendChild(div);\n",
              "\n",
              "      const buffers = [];\n",
              "      let downloaded = 0;\n",
              "\n",
              "      const channel = await google.colab.kernel.comms.open(id);\n",
              "      // Send a message to notify the kernel that we're ready.\n",
              "      channel.send({})\n",
              "\n",
              "      for await (const message of channel.messages) {\n",
              "        // Send a message to notify the kernel that we're ready.\n",
              "        channel.send({})\n",
              "        if (message.buffers) {\n",
              "          for (const buffer of message.buffers) {\n",
              "            buffers.push(buffer);\n",
              "            downloaded += buffer.byteLength;\n",
              "            progress.value = downloaded;\n",
              "          }\n",
              "        }\n",
              "      }\n",
              "      const blob = new Blob(buffers, {type: 'application/binary'});\n",
              "      const a = document.createElement('a');\n",
              "      a.href = window.URL.createObjectURL(blob);\n",
              "      a.download = filename;\n",
              "      div.appendChild(a);\n",
              "      a.click();\n",
              "      div.remove();\n",
              "    }\n",
              "  "
            ]
          },
          "metadata": {}
        },
        {
          "output_type": "display_data",
          "data": {
            "text/plain": [
              "<IPython.core.display.Javascript object>"
            ],
            "application/javascript": [
              "download(\"download_9d77224d-34bb-4e76-8fc1-a1113d40b7d3\", \"submission.csv\", 102313)"
            ]
          },
          "metadata": {}
        }
      ],
      "id": "oQtZ0q-93SIN"
    }
  ],
  "metadata": {
    "kernelspec": {
      "display_name": "Python 3",
      "language": "python",
      "name": "python3"
    },
    "language_info": {
      "codemirror_mode": {
        "name": "ipython",
        "version": 3
      },
      "file_extension": ".py",
      "mimetype": "text/x-python",
      "name": "python",
      "nbconvert_exporter": "python",
      "pygments_lexer": "ipython3",
      "version": "3.8.8"
    },
    "colab": {
      "provenance": []
    }
  },
  "nbformat": 4,
  "nbformat_minor": 5
}