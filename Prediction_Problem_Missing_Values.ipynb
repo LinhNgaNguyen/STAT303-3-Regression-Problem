{
  "cells": [
    {
      "cell_type": "code",
      "execution_count": 1,
      "metadata": {
        "id": "JYqFwxvBTHiI"
      },
      "outputs": [],
      "source": [
        "import pandas as pd\n",
        "import numpy as np\n",
        "import seaborn as sns\n",
        "import matplotlib.pyplot as plt\n",
        "import itertools\n",
        "import time\n",
        "import itertools as it\n",
        "from statsmodels.stats.outliers_influence import variance_inflation_factor\n",
        "from statsmodels.tools.tools import add_constant\n",
        "\n",
        "from sklearn.model_selection import train_test_split, cross_val_predict, cross_val_score, cross_validate\n",
        "from sklearn.linear_model import LogisticRegression, LinearRegression\n",
        "from sklearn.metrics import classification_report, confusion_matrix, roc_curve, auc, precision_recall_curve\n",
        "from sklearn.linear_model import Ridge, RidgeCV, Lasso, LassoCV\n",
        "from sklearn.preprocessing import StandardScaler \n",
        "from sklearn.metrics import r2_score\n",
        "from sklearn.metrics import mean_squared_error\n",
        "from sklearn.metrics import accuracy_score, roc_curve, auc, precision_score, recall_score, confusion_matrix\n",
        "from sklearn.model_selection import StratifiedKFold, KFold\n",
        "from sklearn.tree import DecisionTreeClassifier, DecisionTreeRegressor\n",
        "from sklearn.metrics import mean_absolute_error\n",
        "from sklearn.model_selection import GridSearchCV, cross_val_predict\n",
        "from sklearn.ensemble import BaggingRegressor,BaggingClassifier,RandomForestRegressor,RandomForestClassifier\n",
        "from sklearn.neighbors import KNeighborsClassifier, KNeighborsRegressor\n",
        "from sklearn.impute import KNNImputer\n",
        "from sklearn import preprocessing\n",
        "from sklearn import metrics\n",
        "import warnings\n",
        "np.warnings.filterwarnings('ignore')"
      ]
    },
    {
      "cell_type": "code",
      "execution_count": 2,
      "metadata": {
        "id": "oy0Ht17kTM3V"
      },
      "outputs": [],
      "source": [
        "train = pd.read_csv('kaggle_train.csv')\n",
        "test = pd.read_csv('kaggle_test.csv')"
      ]
    },
    {
      "cell_type": "code",
      "execution_count": 3,
      "metadata": {
        "id": "0sRzS4h1HgHq"
      },
      "outputs": [],
      "source": [
        "y_train = train.y\n",
        "X_train = train.drop(\"y\", axis = 1)\n",
        "\n",
        "X_test = test\n",
        "\n",
        "X_train_columns = X_train.columns\n",
        "X_test_columns = X_test.columns"
      ]
    },
    {
      "cell_type": "code",
      "execution_count": 4,
      "metadata": {
        "id": "njNy7GQRV43M"
      },
      "outputs": [],
      "source": [
        "scaler = StandardScaler().fit(X_train)\n",
        "X_train = pd.DataFrame(scaler.transform(X_train), columns = X_train_columns)\n",
        "X_test = pd.DataFrame(scaler.transform(X_test), columns = X_train_columns)"
      ]
    },
    {
      "cell_type": "code",
      "execution_count": 5,
      "metadata": {
        "id": "aA1u7VCzH6HL",
        "colab": {
          "base_uri": "https://localhost:8080/",
          "height": 449
        },
        "outputId": "089459f4-7c26-4a70-dedc-8fb997230f4b"
      },
      "outputs": [
        {
          "output_type": "display_data",
          "data": {
            "text/plain": [
              "<Figure size 640x480 with 1 Axes>"
            ],
            "image/png": "[encoded data removed]"
          },
          "metadata": {}
        }
      ],
      "source": [
        "total_mae = []\n",
        "k_values = [i for i in range(1, 51)]\n",
        "\n",
        "# Number of missing values\n",
        "missing_values = X_train.isna().sum().sum()\n",
        "\n",
        "for k in k_values:\n",
        "  weighted_avg_mae = []\n",
        "\n",
        "  # Impute the missing values\n",
        "  X_imputed_k = pd.DataFrame(KNNImputer(n_neighbors = k).fit_transform(X_train), columns = X_train.columns)\n",
        "\n",
        "  for p in X_train.columns:\n",
        "    # p is a series\n",
        "\n",
        "    if X_train[p].isna().sum() != 0:\n",
        "      # If the predictor has missing values then remove the predictor from the full imputed table\n",
        "      X_imputed_non_missing_k = X_imputed_k.loc[~X_train[p].isnull(),:]\n",
        "      X_imputed_non_missing_k.reset_index(drop = True, inplace = True)\n",
        "      # Remove the observations with missing values in the p column\n",
        "      predictor_nonmissing = X_imputed_k.loc[~X_train[p].isnull(), p]\n",
        "\n",
        "      # Cross_val_score\n",
        "      knn_model = KNeighborsRegressor(n_neighbors = k, n_jobs = -1)\n",
        "      cv_scores = cross_val_score(knn_model, X_imputed_non_missing_k, predictor_nonmissing, \n",
        "                                  cv = 5, scoring = 'neg_mean_absolute_error')\n",
        "      weighted_avg_mae.append(cv_scores.mean() * X_train[p].isna().sum())\n",
        "\n",
        "    else:\n",
        "      pass \n",
        "\n",
        "  total_mae.append((sum(weighted_avg_mae)/(X_train.isna().sum().sum())))\n",
        "  # Sum(weighted_avg_mae) = total error\n",
        "optimal_k = k_values[total_mae.index(min(total_mae))]\n",
        "\n",
        "plt.plot(k_values, total_mae)\n",
        "plt.xlabel('K')\n",
        "plt.ylabel('Total MAE')\n",
        "plt.show()"
      ]
    },
    {
      "cell_type": "code",
      "source": [
        "k_values[total_mae.index(max(total_mae))]"
      ],
      "metadata": {
        "id": "es8aFq1VeD9r",
        "colab": {
          "base_uri": "https://localhost:8080/"
        },
        "outputId": "45d72444-16bd-4b8e-d0fe-eaf302294eb7"
      },
      "execution_count": 8,
      "outputs": [
        {
          "output_type": "execute_result",
          "data": {
            "text/plain": [
              "8"
            ]
          },
          "metadata": {},
          "execution_count": 8
        }
      ]
    }
  ],
  "metadata": {
    "colab": {
      "provenance": []
    },
    "kernelspec": {
      "display_name": "Python 3",
      "name": "python3"
    },
    "language_info": {
      "name": "python"
    }
  },
  "nbformat": 4,
  "nbformat_minor": 0
}