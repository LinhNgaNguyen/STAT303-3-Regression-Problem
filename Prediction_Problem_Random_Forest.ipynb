{
 "cells": [
  {
   "cell_type": "code",
   "execution_count": 5,
   "metadata": {
    "id": "lkir9KH9UJBw"
   },
   "outputs": [],
   "source": [
    "import pandas as pd\n",
    "import numpy as np\n",
    "import seaborn as sns\n",
    "import matplotlib.pyplot as plt\n",
    "import itertools\n",
    "import time\n",
    "import itertools as it\n",
    "from statsmodels.stats.outliers_influence import variance_inflation_factor\n",
    "from statsmodels.tools.tools import add_constant\n",
    "\n",
    "from sklearn.model_selection import train_test_split, cross_val_predict, cross_val_score, cross_validate\n",
    "from sklearn.linear_model import LogisticRegression, LinearRegression\n",
    "from sklearn.metrics import classification_report, confusion_matrix, roc_curve, auc, precision_recall_curve\n",
    "from sklearn.linear_model import Ridge, RidgeCV, Lasso, LassoCV\n",
    "from sklearn.preprocessing import StandardScaler \n",
    "from sklearn.metrics import r2_score\n",
    "from sklearn.metrics import mean_squared_error\n",
    "from sklearn.metrics import accuracy_score, roc_curve, auc, precision_score, recall_score, confusion_matrix\n",
    "from sklearn.model_selection import StratifiedKFold, KFold\n",
    "from sklearn.tree import DecisionTreeClassifier, DecisionTreeRegressor\n",
    "from sklearn.metrics import mean_absolute_error\n",
    "from sklearn.model_selection import GridSearchCV, cross_val_predict, RandomizedSearchCV\n",
    "from sklearn.ensemble import BaggingRegressor,BaggingClassifier,RandomForestRegressor,RandomForestClassifier, AdaBoostRegressor, AdaBoostClassifier, GradientBoostingRegressor, GradientBoostingClassifier\n",
    "from sklearn.neighbors import KNeighborsClassifier, KNeighborsRegressor\n",
    "from sklearn.impute import KNNImputer\n",
    "from sklearn import preprocessing\n",
    "from sklearn import metrics\n",
    "from sklearn.feature_selection import SequentialFeatureSelector, SelectKBest, f_regression\n",
    "import warnings\n",
    "np.warnings.filterwarnings('ignore')"
   ]
  },
  {
   "cell_type": "code",
   "execution_count": 6,
   "metadata": {
    "id": "1GBY-3KOaQQp"
   },
   "outputs": [],
   "source": [
    "# Loading the data\n",
    "train = pd.read_csv('kaggle_train.csv')\n",
    "test = pd.read_csv('kaggle_test.csv')"
   ]
  },
  {
   "cell_type": "code",
   "execution_count": 7,
   "metadata": {
    "id": "cz_gjevlaTSJ"
   },
   "outputs": [],
   "source": [
    "# Separate into test and train\n",
    "y_train = train.y\n",
    "X_train = train.drop(\"y\", axis = 1)\n",
    "\n",
    "X_test = test\n",
    "\n",
    "X_train_columns = X_train.columns\n",
    "X_test_columns = X_test.columns"
   ]
  },
  {
   "cell_type": "code",
   "execution_count": 15,
   "metadata": {
    "id": "Ye0c2JKiUQDm"
   },
   "outputs": [],
   "source": [
    "# Scale the data\n",
    "scaler = StandardScaler().fit(X_train)\n",
    "X_train = pd.DataFrame(scaler.transform(X_train), columns = X_train_columns)\n",
    "X_test = pd.DataFrame(scaler.transform(X_test), columns = X_train_columns)\n",
    "\n",
    "# Impute the missing values\n",
    "X_imputed = pd.DataFrame(KNNImputer(n_neighbors = 8).fit_transform(X_train), columns = X_train.columns)\n",
    "X_test_imputed = pd.DataFrame(KNNImputer(n_neighbors = 8).fit_transform(X_test), columns = X_test.columns)\n",
    "\n",
    "# SelectKBest to select the best 350 features of the dataset\n",
    "# Fit using the imputed X_train data\n",
    "# Get_support() gives an array with Booleans with True being the predictors selected and False being the predictors removed\n",
    "selected_features = SelectKBest(f_regression, k = 500).fit(X_imputed, y_train).get_support()"
   ]
  },
  {
   "cell_type": "code",
   "execution_count": 16,
   "metadata": {
    "colab": {
     "base_uri": "https://localhost:8080/"
    },
    "id": "o60Nvtl7ViGA",
    "outputId": "2f55d66a-51d9-413c-9ad0-298538bd3e60"
   },
   "outputs": [],
   "source": [
    "# Making a new dataframe with all the predictors that are selected\n",
    "X_train_small = X_imputed[X_imputed.columns[selected_features]]"
   ]
  },
  {
   "cell_type": "code",
   "execution_count": 17,
   "metadata": {
    "colab": {
     "base_uri": "https://localhost:8080/"
    },
    "id": "vY8kAXWAba2l",
    "outputId": "7b0c06f5-113d-4051-9ca6-91474cff0f32"
   },
   "outputs": [],
   "source": [
    "X_test_small = X_test_imputed[X_test_imputed.columns[selected_features]]"
   ]
  },
  {
   "cell_type": "code",
   "execution_count": 6,
   "metadata": {
    "colab": {
     "base_uri": "https://localhost:8080/"
    },
    "id": "er-3vcg4URcA",
    "outputId": "aa399b60-d8fc-42bd-a67c-408bdd4325ef"
   },
   "outputs": [
    {
     "name": "stdout",
     "output_type": "stream",
     "text": [
      "Fitting 2 folds for each of 50 candidates, totalling 100 fits\n"
     ]
    }
   ],
   "source": [
    "# Coarse search\n",
    "param_grid = {\n",
    "    'max_depth': list(range(1, 202, 20)),\n",
    "    'n_estimators': [100, 200, 400, 800],\n",
    "    'min_samples_split': [2, 4, 8],\n",
    "    'min_samples_leaf': [1, 2, 4],\n",
    "    'max_features': ['sqrt', 'log2'],\n",
    "    'bootstrap': [True, False]\n",
    "}\n",
    "\n",
    "cv = KFold(n_splits=2, shuffle=True, random_state=1)\n",
    "\n",
    "rf_coarse_grid_search = RandomizedSearchCV(\n",
    "    estimator=RandomForestRegressor(random_state=1),\n",
    "    param_distributions=param_grid,\n",
    "    verbose=1,\n",
    "    n_jobs=-1,\n",
    "    cv=cv,\n",
    "    scoring='neg_mean_absolute_error',\n",
    "    n_iter=50,\n",
    "    random_state=1\n",
    ")\n",
    "\n",
    "rf_coarse_grid_result = rf_coarse_grid_search.fit(X_train_small, y_train)\n",
    "\n",
    "# Store results in a DataFrame\n",
    "rf_cv_results = pd.DataFrame(rf_coarse_grid_result.cv_results_)"
   ]
  },
  {
   "cell_type": "code",
   "execution_count": 7,
   "metadata": {
    "colab": {
     "base_uri": "https://localhost:8080/"
    },
    "id": "nqFHUBrsUcyG",
    "outputId": "d6f71b1a-0f95-4a14-9f9a-9228071683e5"
   },
   "outputs": [
    {
     "name": "stdout",
     "output_type": "stream",
     "text": [
      "Best MAE Score Through Grid Search : -5.367\n",
      "Best Parameters :  {'n_estimators': 400, 'min_samples_split': 2, 'min_samples_leaf': 4, 'max_features': 'sqrt', 'max_depth': 201, 'bootstrap': False}\n"
     ]
    }
   ],
   "source": [
    "print('Best MAE Score Through Grid Search : %.3f'%rf_coarse_grid_search.best_score_)\n",
    "print('Best Parameters : ',rf_coarse_grid_search.best_params_)"
   ]
  },
  {
   "cell_type": "code",
   "execution_count": 18,
   "metadata": {
    "colab": {
     "base_uri": "https://localhost:8080/"
    },
    "id": "kvMcloSWZNNU",
    "outputId": "d55cab6c-3c55-4b26-f328-35b1d7a3238b"
   },
   "outputs": [
    {
     "name": "stderr",
     "output_type": "stream",
     "text": [
      "[Parallel(n_jobs=-1)]: Using backend ThreadingBackend with 8 concurrent workers.\n",
      "[Parallel(n_jobs=-1)]: Done  34 tasks      | elapsed:    0.9s\n",
      "[Parallel(n_jobs=-1)]: Done 184 tasks      | elapsed:    3.9s\n",
      "[Parallel(n_jobs=-1)]: Done 400 out of 400 | elapsed:    8.6s finished\n",
      "[Parallel(n_jobs=8)]: Using backend ThreadingBackend with 8 concurrent workers.\n",
      "[Parallel(n_jobs=8)]: Done  34 tasks      | elapsed:    0.0s\n",
      "[Parallel(n_jobs=8)]: Done 184 tasks      | elapsed:    0.1s\n",
      "[Parallel(n_jobs=8)]: Done 400 out of 400 | elapsed:    0.3s finished\n"
     ]
    }
   ],
   "source": [
    "rf_model = RandomForestRegressor(random_state=1, verbose = 1, n_estimators = 400,\n",
    "                                 max_features= 'sqrt', max_depth = 201, \n",
    "                                 min_samples_split = 2, min_samples_leaf = 4,\n",
    "                                 max_leaf_nodes = 4000, n_jobs=-1, bootstrap = False).fit(X_train_small,y_train)\n",
    "\n",
    "pred = rf_model.predict(X_test_small)"
   ]
  },
  {
   "cell_type": "code",
   "execution_count": 19,
   "metadata": {
    "id": "dlQYL68-aCQl"
   },
   "outputs": [],
   "source": [
    "y = pd.Series(pred, name = 'y')\n",
    "y[y<=1] = 1\n",
    "sub = pd.concat([test['id'], y], axis = 1, ignore_index=True)\n",
    "sub.columns = ['id',\"y\"]\n",
    "sub.to_csv('submission.csv', index=False)"
   ]
  },
  {
   "cell_type": "code",
   "execution_count": null,
   "metadata": {
    "id": "L_ci6idDZqIl"
   },
   "outputs": [],
   "source": []
  }
 ],
 "metadata": {
  "colab": {
   "provenance": []
  },
  "kernelspec": {
   "display_name": "Python 3 (ipykernel)",
   "language": "python",
   "name": "python3"
  },
  "language_info": {
   "codemirror_mode": {
    "name": "ipython",
    "version": 3
   },
   "file_extension": ".py",
   "mimetype": "text/x-python",
   "name": "python",
   "nbconvert_exporter": "python",
   "pygments_lexer": "ipython3",
   "version": "3.9.13"
  }
 },
 "nbformat": 4,
 "nbformat_minor": 1
}
